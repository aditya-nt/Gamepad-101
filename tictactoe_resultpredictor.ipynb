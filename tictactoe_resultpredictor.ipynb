{
  "nbformat": 4,
  "nbformat_minor": 0,
  "metadata": {
    "colab": {
      "name": "tictactoe-resultpredictor.ipynb",
      "provenance": [],
      "collapsed_sections": [],
      "authorship_tag": "ABX9TyMeWRKDbs8FZ74wj7ly45IB",
      "include_colab_link": true
    },
    "kernelspec": {
      "name": "python3",
      "display_name": "Python 3"
    }
  },
  "cells": [
    {
      "cell_type": "markdown",
      "metadata": {
        "id": "view-in-github",
        "colab_type": "text"
      },
      "source": [
        "<a href=\"https://colab.research.google.com/github/technicalclub-rcoem/Gamepad-101/blob/resultprediction/tictactoe_resultpredictor.ipynb\" target=\"_parent\"><img src=\"https://colab.research.google.com/assets/colab-badge.svg\" alt=\"Open In Colab\"/></a>"
      ]
    },
    {
      "cell_type": "markdown",
      "metadata": {
        "id": "8jHcStckg0Sp",
        "colab_type": "text"
      },
      "source": [
        "#Load the Dataset"
      ]
    },
    {
      "cell_type": "code",
      "metadata": {
        "id": "dfPMioFJXZ-j",
        "colab_type": "code",
        "colab": {}
      },
      "source": [
        "import pandas as pd"
      ],
      "execution_count": 0,
      "outputs": []
    },
    {
      "cell_type": "code",
      "metadata": {
        "id": "5Nm7ys7IgaTC",
        "colab_type": "code",
        "colab": {
          "base_uri": "https://localhost:8080/",
          "height": 240
        },
        "outputId": "4f353cfa-c37e-49b2-cc9a-21fd5f69f0a9"
      },
      "source": [
        "!wget https://raw.githubusercontent.com/technicalclub-rcoem/Gamepad-101/resultprediction/tictactoe-endgame-dataset-uci/tic-tac-toe-endgame.csv"
      ],
      "execution_count": 28,
      "outputs": [
        {
          "output_type": "stream",
          "text": [
            "--2020-05-06 12:13:44--  https://raw.githubusercontent.com/technicalclub-rcoem/Gamepad-101/resultprediction/tictactoe-endgame-dataset-uci/tic-tac-toe-endgame.csv\n",
            "Resolving raw.githubusercontent.com (raw.githubusercontent.com)... 151.101.0.133, 151.101.64.133, 151.101.128.133, ...\n",
            "Connecting to raw.githubusercontent.com (raw.githubusercontent.com)|151.101.0.133|:443... connected.\n",
            "HTTP request sent, awaiting response... 200 OK\n",
            "Length: 45077 (44K) [text/plain]\n",
            "Saving to: ‘tic-tac-toe-endgame.csv.1’\n",
            "\n",
            "\r          tic-tac-t   0%[                    ]       0  --.-KB/s               \rtic-tac-toe-endgame 100%[===================>]  44.02K  --.-KB/s    in 0.01s   \n",
            "\n",
            "2020-05-06 12:13:44 (3.08 MB/s) - ‘tic-tac-toe-endgame.csv.1’ saved [45077/45077]\n",
            "\n"
          ],
          "name": "stdout"
        }
      ]
    },
    {
      "cell_type": "code",
      "metadata": {
        "id": "f0Utmb_kgeY7",
        "colab_type": "code",
        "colab": {
          "base_uri": "https://localhost:8080/",
          "height": 206
        },
        "outputId": "4bdfc459-7181-476b-c88f-a67c0d99360f"
      },
      "source": [
        "df = pd.read_csv('tic-tac-toe-endgame.csv')\n",
        "df.head()"
      ],
      "execution_count": 29,
      "outputs": [
        {
          "output_type": "execute_result",
          "data": {
            "text/html": [
              "<div>\n",
              "<style scoped>\n",
              "    .dataframe tbody tr th:only-of-type {\n",
              "        vertical-align: middle;\n",
              "    }\n",
              "\n",
              "    .dataframe tbody tr th {\n",
              "        vertical-align: top;\n",
              "    }\n",
              "\n",
              "    .dataframe thead th {\n",
              "        text-align: right;\n",
              "    }\n",
              "</style>\n",
              "<table border=\"1\" class=\"dataframe\">\n",
              "  <thead>\n",
              "    <tr style=\"text-align: right;\">\n",
              "      <th></th>\n",
              "      <th>V1</th>\n",
              "      <th>V2</th>\n",
              "      <th>V3</th>\n",
              "      <th>V4</th>\n",
              "      <th>V5</th>\n",
              "      <th>V6</th>\n",
              "      <th>V7</th>\n",
              "      <th>V8</th>\n",
              "      <th>V9</th>\n",
              "      <th>V10</th>\n",
              "    </tr>\n",
              "  </thead>\n",
              "  <tbody>\n",
              "    <tr>\n",
              "      <th>0</th>\n",
              "      <td>x</td>\n",
              "      <td>x</td>\n",
              "      <td>x</td>\n",
              "      <td>x</td>\n",
              "      <td>o</td>\n",
              "      <td>o</td>\n",
              "      <td>x</td>\n",
              "      <td>o</td>\n",
              "      <td>o</td>\n",
              "      <td>positive</td>\n",
              "    </tr>\n",
              "    <tr>\n",
              "      <th>1</th>\n",
              "      <td>x</td>\n",
              "      <td>x</td>\n",
              "      <td>x</td>\n",
              "      <td>x</td>\n",
              "      <td>o</td>\n",
              "      <td>o</td>\n",
              "      <td>o</td>\n",
              "      <td>x</td>\n",
              "      <td>o</td>\n",
              "      <td>positive</td>\n",
              "    </tr>\n",
              "    <tr>\n",
              "      <th>2</th>\n",
              "      <td>x</td>\n",
              "      <td>x</td>\n",
              "      <td>x</td>\n",
              "      <td>x</td>\n",
              "      <td>o</td>\n",
              "      <td>o</td>\n",
              "      <td>o</td>\n",
              "      <td>o</td>\n",
              "      <td>x</td>\n",
              "      <td>positive</td>\n",
              "    </tr>\n",
              "    <tr>\n",
              "      <th>3</th>\n",
              "      <td>x</td>\n",
              "      <td>x</td>\n",
              "      <td>x</td>\n",
              "      <td>x</td>\n",
              "      <td>o</td>\n",
              "      <td>o</td>\n",
              "      <td>o</td>\n",
              "      <td>b</td>\n",
              "      <td>b</td>\n",
              "      <td>positive</td>\n",
              "    </tr>\n",
              "    <tr>\n",
              "      <th>4</th>\n",
              "      <td>x</td>\n",
              "      <td>x</td>\n",
              "      <td>x</td>\n",
              "      <td>x</td>\n",
              "      <td>o</td>\n",
              "      <td>o</td>\n",
              "      <td>b</td>\n",
              "      <td>o</td>\n",
              "      <td>b</td>\n",
              "      <td>positive</td>\n",
              "    </tr>\n",
              "  </tbody>\n",
              "</table>\n",
              "</div>"
            ],
            "text/plain": [
              "  V1 V2 V3 V4 V5 V6 V7 V8 V9       V10\n",
              "0  x  x  x  x  o  o  x  o  o  positive\n",
              "1  x  x  x  x  o  o  o  x  o  positive\n",
              "2  x  x  x  x  o  o  o  o  x  positive\n",
              "3  x  x  x  x  o  o  o  b  b  positive\n",
              "4  x  x  x  x  o  o  b  o  b  positive"
            ]
          },
          "metadata": {
            "tags": []
          },
          "execution_count": 29
        }
      ]
    },
    {
      "cell_type": "markdown",
      "metadata": {
        "id": "ILN6qBfehWEE",
        "colab_type": "text"
      },
      "source": [
        "#Explore the data"
      ]
    },
    {
      "cell_type": "code",
      "metadata": {
        "id": "DRHino6ohUOJ",
        "colab_type": "code",
        "colab": {
          "base_uri": "https://localhost:8080/",
          "height": 35
        },
        "outputId": "31c1e92c-9914-459e-954c-78b939d941cb"
      },
      "source": [
        "df.shape"
      ],
      "execution_count": 30,
      "outputs": [
        {
          "output_type": "execute_result",
          "data": {
            "text/plain": [
              "(958, 10)"
            ]
          },
          "metadata": {
            "tags": []
          },
          "execution_count": 30
        }
      ]
    },
    {
      "cell_type": "code",
      "metadata": {
        "id": "n2e6JJ2bgtlm",
        "colab_type": "code",
        "colab": {
          "base_uri": "https://localhost:8080/",
          "height": 175
        },
        "outputId": "361eca72-0528-4d8c-e497-987837f03575"
      },
      "source": [
        "df.describe()"
      ],
      "execution_count": 31,
      "outputs": [
        {
          "output_type": "execute_result",
          "data": {
            "text/html": [
              "<div>\n",
              "<style scoped>\n",
              "    .dataframe tbody tr th:only-of-type {\n",
              "        vertical-align: middle;\n",
              "    }\n",
              "\n",
              "    .dataframe tbody tr th {\n",
              "        vertical-align: top;\n",
              "    }\n",
              "\n",
              "    .dataframe thead th {\n",
              "        text-align: right;\n",
              "    }\n",
              "</style>\n",
              "<table border=\"1\" class=\"dataframe\">\n",
              "  <thead>\n",
              "    <tr style=\"text-align: right;\">\n",
              "      <th></th>\n",
              "      <th>V1</th>\n",
              "      <th>V2</th>\n",
              "      <th>V3</th>\n",
              "      <th>V4</th>\n",
              "      <th>V5</th>\n",
              "      <th>V6</th>\n",
              "      <th>V7</th>\n",
              "      <th>V8</th>\n",
              "      <th>V9</th>\n",
              "      <th>V10</th>\n",
              "    </tr>\n",
              "  </thead>\n",
              "  <tbody>\n",
              "    <tr>\n",
              "      <th>count</th>\n",
              "      <td>958</td>\n",
              "      <td>958</td>\n",
              "      <td>958</td>\n",
              "      <td>958</td>\n",
              "      <td>958</td>\n",
              "      <td>958</td>\n",
              "      <td>958</td>\n",
              "      <td>958</td>\n",
              "      <td>958</td>\n",
              "      <td>958</td>\n",
              "    </tr>\n",
              "    <tr>\n",
              "      <th>unique</th>\n",
              "      <td>3</td>\n",
              "      <td>3</td>\n",
              "      <td>3</td>\n",
              "      <td>3</td>\n",
              "      <td>3</td>\n",
              "      <td>3</td>\n",
              "      <td>3</td>\n",
              "      <td>3</td>\n",
              "      <td>3</td>\n",
              "      <td>2</td>\n",
              "    </tr>\n",
              "    <tr>\n",
              "      <th>top</th>\n",
              "      <td>x</td>\n",
              "      <td>x</td>\n",
              "      <td>x</td>\n",
              "      <td>x</td>\n",
              "      <td>x</td>\n",
              "      <td>x</td>\n",
              "      <td>x</td>\n",
              "      <td>x</td>\n",
              "      <td>x</td>\n",
              "      <td>positive</td>\n",
              "    </tr>\n",
              "    <tr>\n",
              "      <th>freq</th>\n",
              "      <td>418</td>\n",
              "      <td>378</td>\n",
              "      <td>418</td>\n",
              "      <td>378</td>\n",
              "      <td>458</td>\n",
              "      <td>378</td>\n",
              "      <td>418</td>\n",
              "      <td>378</td>\n",
              "      <td>418</td>\n",
              "      <td>626</td>\n",
              "    </tr>\n",
              "  </tbody>\n",
              "</table>\n",
              "</div>"
            ],
            "text/plain": [
              "         V1   V2   V3   V4   V5   V6   V7   V8   V9       V10\n",
              "count   958  958  958  958  958  958  958  958  958       958\n",
              "unique    3    3    3    3    3    3    3    3    3         2\n",
              "top       x    x    x    x    x    x    x    x    x  positive\n",
              "freq    418  378  418  378  458  378  418  378  418       626"
            ]
          },
          "metadata": {
            "tags": []
          },
          "execution_count": 31
        }
      ]
    },
    {
      "cell_type": "markdown",
      "metadata": {
        "id": "6Y_A5JHkiUDN",
        "colab_type": "text"
      },
      "source": [
        "#Preprocess data"
      ]
    },
    {
      "cell_type": "code",
      "metadata": {
        "id": "LI_HlC03hQIx",
        "colab_type": "code",
        "colab": {
          "base_uri": "https://localhost:8080/",
          "height": 206
        },
        "outputId": "96b9c5e6-598c-4f45-b661-e58d84d1ae18"
      },
      "source": [
        "df = df.replace(to_replace='b',value=-1)    # blank --> -1\n",
        "df = df.replace(to_replace='o',value=0)     # o --> 0\n",
        "df = df.replace(to_replace='x',value=1)     # x --> 1\n",
        "df = df.replace(to_replace='positive',value=1)  # x wins -- 1\n",
        "df = df.replace(to_replace='negative',value=0)  # x lose -- 0\n",
        "df.head()"
      ],
      "execution_count": 32,
      "outputs": [
        {
          "output_type": "execute_result",
          "data": {
            "text/html": [
              "<div>\n",
              "<style scoped>\n",
              "    .dataframe tbody tr th:only-of-type {\n",
              "        vertical-align: middle;\n",
              "    }\n",
              "\n",
              "    .dataframe tbody tr th {\n",
              "        vertical-align: top;\n",
              "    }\n",
              "\n",
              "    .dataframe thead th {\n",
              "        text-align: right;\n",
              "    }\n",
              "</style>\n",
              "<table border=\"1\" class=\"dataframe\">\n",
              "  <thead>\n",
              "    <tr style=\"text-align: right;\">\n",
              "      <th></th>\n",
              "      <th>V1</th>\n",
              "      <th>V2</th>\n",
              "      <th>V3</th>\n",
              "      <th>V4</th>\n",
              "      <th>V5</th>\n",
              "      <th>V6</th>\n",
              "      <th>V7</th>\n",
              "      <th>V8</th>\n",
              "      <th>V9</th>\n",
              "      <th>V10</th>\n",
              "    </tr>\n",
              "  </thead>\n",
              "  <tbody>\n",
              "    <tr>\n",
              "      <th>0</th>\n",
              "      <td>1</td>\n",
              "      <td>1</td>\n",
              "      <td>1</td>\n",
              "      <td>1</td>\n",
              "      <td>0</td>\n",
              "      <td>0</td>\n",
              "      <td>1</td>\n",
              "      <td>0</td>\n",
              "      <td>0</td>\n",
              "      <td>1</td>\n",
              "    </tr>\n",
              "    <tr>\n",
              "      <th>1</th>\n",
              "      <td>1</td>\n",
              "      <td>1</td>\n",
              "      <td>1</td>\n",
              "      <td>1</td>\n",
              "      <td>0</td>\n",
              "      <td>0</td>\n",
              "      <td>0</td>\n",
              "      <td>1</td>\n",
              "      <td>0</td>\n",
              "      <td>1</td>\n",
              "    </tr>\n",
              "    <tr>\n",
              "      <th>2</th>\n",
              "      <td>1</td>\n",
              "      <td>1</td>\n",
              "      <td>1</td>\n",
              "      <td>1</td>\n",
              "      <td>0</td>\n",
              "      <td>0</td>\n",
              "      <td>0</td>\n",
              "      <td>0</td>\n",
              "      <td>1</td>\n",
              "      <td>1</td>\n",
              "    </tr>\n",
              "    <tr>\n",
              "      <th>3</th>\n",
              "      <td>1</td>\n",
              "      <td>1</td>\n",
              "      <td>1</td>\n",
              "      <td>1</td>\n",
              "      <td>0</td>\n",
              "      <td>0</td>\n",
              "      <td>0</td>\n",
              "      <td>-1</td>\n",
              "      <td>-1</td>\n",
              "      <td>1</td>\n",
              "    </tr>\n",
              "    <tr>\n",
              "      <th>4</th>\n",
              "      <td>1</td>\n",
              "      <td>1</td>\n",
              "      <td>1</td>\n",
              "      <td>1</td>\n",
              "      <td>0</td>\n",
              "      <td>0</td>\n",
              "      <td>-1</td>\n",
              "      <td>0</td>\n",
              "      <td>-1</td>\n",
              "      <td>1</td>\n",
              "    </tr>\n",
              "  </tbody>\n",
              "</table>\n",
              "</div>"
            ],
            "text/plain": [
              "   V1  V2  V3  V4  V5  V6  V7  V8  V9  V10\n",
              "0   1   1   1   1   0   0   1   0   0    1\n",
              "1   1   1   1   1   0   0   0   1   0    1\n",
              "2   1   1   1   1   0   0   0   0   1    1\n",
              "3   1   1   1   1   0   0   0  -1  -1    1\n",
              "4   1   1   1   1   0   0  -1   0  -1    1"
            ]
          },
          "metadata": {
            "tags": []
          },
          "execution_count": 32
        }
      ]
    },
    {
      "cell_type": "markdown",
      "metadata": {
        "id": "CLQ6KdmsqXE0",
        "colab_type": "text"
      },
      "source": [
        "#Split data"
      ]
    },
    {
      "cell_type": "code",
      "metadata": {
        "id": "QaheV8ZmikLj",
        "colab_type": "code",
        "colab": {}
      },
      "source": [
        "from sklearn.model_selection import train_test_split\n",
        "\n",
        "X_train, X_test, y_train, y_test = train_test_split(df, df.V10, test_size=0.2)\n",
        "\n",
        "X_train = X_train.drop(['V10'],axis = 1)\n",
        "X_test  = X_test.drop(['V10'],axis = 1)"
      ],
      "execution_count": 0,
      "outputs": []
    },
    {
      "cell_type": "code",
      "metadata": {
        "id": "Fwvy9CCZzZWe",
        "colab_type": "code",
        "colab": {
          "base_uri": "https://localhost:8080/",
          "height": 35
        },
        "outputId": "b89b6073-dab7-4f6b-f5e0-e095e09160ff"
      },
      "source": [
        "X_train.shape"
      ],
      "execution_count": 34,
      "outputs": [
        {
          "output_type": "execute_result",
          "data": {
            "text/plain": [
              "(766, 9)"
            ]
          },
          "metadata": {
            "tags": []
          },
          "execution_count": 34
        }
      ]
    },
    {
      "cell_type": "markdown",
      "metadata": {
        "id": "EHxFOR3OzjOJ",
        "colab_type": "text"
      },
      "source": [
        "#Create the model"
      ]
    },
    {
      "cell_type": "code",
      "metadata": {
        "id": "XH1cAzAdznBp",
        "colab_type": "code",
        "colab": {}
      },
      "source": [
        "from tensorflow import keras\n",
        "from keras.models import Sequential\n",
        "from keras.layers import Dense"
      ],
      "execution_count": 0,
      "outputs": []
    },
    {
      "cell_type": "code",
      "metadata": {
        "id": "zzt9ys4e0i4L",
        "colab_type": "code",
        "colab": {
          "base_uri": "https://localhost:8080/",
          "height": 35
        },
        "outputId": "cc7e0c80-8aa4-49f6-8ceb-01538c706c5c"
      },
      "source": [
        "inputs = X_train.shape[1]\n",
        "print(inputs)"
      ],
      "execution_count": 36,
      "outputs": [
        {
          "output_type": "stream",
          "text": [
            "9\n"
          ],
          "name": "stdout"
        }
      ]
    },
    {
      "cell_type": "code",
      "metadata": {
        "id": "-aq95yIzzuXP",
        "colab_type": "code",
        "colab": {}
      },
      "source": [
        "#Model\n",
        "# def create_baseline():\n",
        "# create model\n",
        "model = Sequential()\n",
        "model.add(Dense(60, input_shape= (X_train.shape[1],), activation='relu'))\n",
        "model.add(Dense(60, activation='relu'))\n",
        "model.add(Dense(1, activation='sigmoid'))\n",
        "# Compile model\n",
        "model.compile(loss='binary_crossentropy', optimizer='adam', metrics=['accuracy'])\n",
        "# return model"
      ],
      "execution_count": 0,
      "outputs": []
    },
    {
      "cell_type": "code",
      "metadata": {
        "id": "ZkM6HJpk3Ysl",
        "colab_type": "code",
        "colab": {
          "base_uri": "https://localhost:8080/",
          "height": 276
        },
        "outputId": "1696d380-cc2f-4aad-bbbd-55a0fdf17313"
      },
      "source": [
        "model.summary()"
      ],
      "execution_count": 38,
      "outputs": [
        {
          "output_type": "stream",
          "text": [
            "Model: \"sequential_2\"\n",
            "_________________________________________________________________\n",
            "Layer (type)                 Output Shape              Param #   \n",
            "=================================================================\n",
            "dense_4 (Dense)              (None, 60)                600       \n",
            "_________________________________________________________________\n",
            "dense_5 (Dense)              (None, 60)                3660      \n",
            "_________________________________________________________________\n",
            "dense_6 (Dense)              (None, 1)                 61        \n",
            "=================================================================\n",
            "Total params: 4,321\n",
            "Trainable params: 4,321\n",
            "Non-trainable params: 0\n",
            "_________________________________________________________________\n"
          ],
          "name": "stdout"
        }
      ]
    },
    {
      "cell_type": "code",
      "metadata": {
        "id": "syVsPItn4qYp",
        "colab_type": "code",
        "colab": {
          "base_uri": "https://localhost:8080/",
          "height": 54
        },
        "outputId": "e2918caf-eb60-48dc-95fc-fe65113631c6"
      },
      "source": [
        "val = model.evaluate(X_test,y_test)\n",
        "print(val)"
      ],
      "execution_count": 39,
      "outputs": [
        {
          "output_type": "stream",
          "text": [
            "192/192 [==============================] - 0s 112us/step\n",
            "[0.7584498226642609, 0.3958333432674408]\n"
          ],
          "name": "stdout"
        }
      ]
    },
    {
      "cell_type": "markdown",
      "metadata": {
        "id": "71HfBtg67LEb",
        "colab_type": "text"
      },
      "source": [
        "# Training"
      ]
    },
    {
      "cell_type": "code",
      "metadata": {
        "id": "sGZZErhv7I0w",
        "colab_type": "code",
        "colab": {
          "base_uri": "https://localhost:8080/",
          "height": 1000
        },
        "outputId": "380285dc-58e6-4fef-85c4-0ed91b4656dc"
      },
      "source": [
        "model.fit(X_train,y_train, epochs=100)\n"
      ],
      "execution_count": 40,
      "outputs": [
        {
          "output_type": "stream",
          "text": [
            "Epoch 1/100\n",
            "766/766 [==============================] - 0s 179us/step - loss: 0.6690 - accuracy: 0.5718\n",
            "Epoch 2/100\n",
            "766/766 [==============================] - 0s 50us/step - loss: 0.6105 - accuracy: 0.6580\n",
            "Epoch 3/100\n",
            "766/766 [==============================] - 0s 48us/step - loss: 0.5894 - accuracy: 0.6710\n",
            "Epoch 4/100\n",
            "766/766 [==============================] - 0s 45us/step - loss: 0.5723 - accuracy: 0.6958\n",
            "Epoch 5/100\n",
            "766/766 [==============================] - 0s 46us/step - loss: 0.5563 - accuracy: 0.7350\n",
            "Epoch 6/100\n",
            "766/766 [==============================] - 0s 48us/step - loss: 0.5385 - accuracy: 0.7507\n",
            "Epoch 7/100\n",
            "766/766 [==============================] - 0s 49us/step - loss: 0.5204 - accuracy: 0.7546\n",
            "Epoch 8/100\n",
            "766/766 [==============================] - 0s 49us/step - loss: 0.5014 - accuracy: 0.7833\n",
            "Epoch 9/100\n",
            "766/766 [==============================] - 0s 43us/step - loss: 0.4816 - accuracy: 0.8003\n",
            "Epoch 10/100\n",
            "766/766 [==============================] - 0s 41us/step - loss: 0.4616 - accuracy: 0.8003\n",
            "Epoch 11/100\n",
            "766/766 [==============================] - 0s 42us/step - loss: 0.4444 - accuracy: 0.8264\n",
            "Epoch 12/100\n",
            "766/766 [==============================] - 0s 42us/step - loss: 0.4256 - accuracy: 0.8211\n",
            "Epoch 13/100\n",
            "766/766 [==============================] - 0s 40us/step - loss: 0.4077 - accuracy: 0.8433\n",
            "Epoch 14/100\n",
            "766/766 [==============================] - 0s 39us/step - loss: 0.3902 - accuracy: 0.8590\n",
            "Epoch 15/100\n",
            "766/766 [==============================] - 0s 44us/step - loss: 0.3748 - accuracy: 0.8629\n",
            "Epoch 16/100\n",
            "766/766 [==============================] - 0s 50us/step - loss: 0.3607 - accuracy: 0.8747\n",
            "Epoch 17/100\n",
            "766/766 [==============================] - 0s 47us/step - loss: 0.3431 - accuracy: 0.8799\n",
            "Epoch 18/100\n",
            "766/766 [==============================] - 0s 47us/step - loss: 0.3319 - accuracy: 0.8838\n",
            "Epoch 19/100\n",
            "766/766 [==============================] - 0s 45us/step - loss: 0.3191 - accuracy: 0.8890\n",
            "Epoch 20/100\n",
            "766/766 [==============================] - 0s 56us/step - loss: 0.3054 - accuracy: 0.8995\n",
            "Epoch 21/100\n",
            "766/766 [==============================] - 0s 44us/step - loss: 0.2959 - accuracy: 0.8903\n",
            "Epoch 22/100\n",
            "766/766 [==============================] - 0s 48us/step - loss: 0.2893 - accuracy: 0.8969\n",
            "Epoch 23/100\n",
            "766/766 [==============================] - 0s 44us/step - loss: 0.2783 - accuracy: 0.9008\n",
            "Epoch 24/100\n",
            "766/766 [==============================] - 0s 49us/step - loss: 0.2639 - accuracy: 0.9099\n",
            "Epoch 25/100\n",
            "766/766 [==============================] - 0s 53us/step - loss: 0.2554 - accuracy: 0.9112\n",
            "Epoch 26/100\n",
            "766/766 [==============================] - 0s 47us/step - loss: 0.2457 - accuracy: 0.9164\n",
            "Epoch 27/100\n",
            "766/766 [==============================] - 0s 48us/step - loss: 0.2374 - accuracy: 0.9230\n",
            "Epoch 28/100\n",
            "766/766 [==============================] - 0s 49us/step - loss: 0.2273 - accuracy: 0.9204\n",
            "Epoch 29/100\n",
            "766/766 [==============================] - 0s 53us/step - loss: 0.2185 - accuracy: 0.9269\n",
            "Epoch 30/100\n",
            "766/766 [==============================] - 0s 51us/step - loss: 0.2109 - accuracy: 0.9295\n",
            "Epoch 31/100\n",
            "766/766 [==============================] - 0s 46us/step - loss: 0.2033 - accuracy: 0.9347\n",
            "Epoch 32/100\n",
            "766/766 [==============================] - 0s 48us/step - loss: 0.1939 - accuracy: 0.9413\n",
            "Epoch 33/100\n",
            "766/766 [==============================] - 0s 48us/step - loss: 0.1876 - accuracy: 0.9452\n",
            "Epoch 34/100\n",
            "766/766 [==============================] - 0s 49us/step - loss: 0.1772 - accuracy: 0.9465\n",
            "Epoch 35/100\n",
            "766/766 [==============================] - 0s 45us/step - loss: 0.1711 - accuracy: 0.9491\n",
            "Epoch 36/100\n",
            "766/766 [==============================] - 0s 40us/step - loss: 0.1639 - accuracy: 0.9530\n",
            "Epoch 37/100\n",
            "766/766 [==============================] - 0s 39us/step - loss: 0.1586 - accuracy: 0.9517\n",
            "Epoch 38/100\n",
            "766/766 [==============================] - 0s 44us/step - loss: 0.1464 - accuracy: 0.9608\n",
            "Epoch 39/100\n",
            "766/766 [==============================] - 0s 42us/step - loss: 0.1413 - accuracy: 0.9595\n",
            "Epoch 40/100\n",
            "766/766 [==============================] - 0s 42us/step - loss: 0.1342 - accuracy: 0.9674\n",
            "Epoch 41/100\n",
            "766/766 [==============================] - 0s 41us/step - loss: 0.1303 - accuracy: 0.9608\n",
            "Epoch 42/100\n",
            "766/766 [==============================] - 0s 44us/step - loss: 0.1223 - accuracy: 0.9700\n",
            "Epoch 43/100\n",
            "766/766 [==============================] - 0s 54us/step - loss: 0.1150 - accuracy: 0.9674\n",
            "Epoch 44/100\n",
            "766/766 [==============================] - 0s 40us/step - loss: 0.1124 - accuracy: 0.9713\n",
            "Epoch 45/100\n",
            "766/766 [==============================] - 0s 41us/step - loss: 0.1066 - accuracy: 0.9778\n",
            "Epoch 46/100\n",
            "766/766 [==============================] - 0s 41us/step - loss: 0.0984 - accuracy: 0.9804\n",
            "Epoch 47/100\n",
            "766/766 [==============================] - 0s 49us/step - loss: 0.0955 - accuracy: 0.9883\n",
            "Epoch 48/100\n",
            "766/766 [==============================] - 0s 45us/step - loss: 0.0898 - accuracy: 0.9843\n",
            "Epoch 49/100\n",
            "766/766 [==============================] - 0s 42us/step - loss: 0.0855 - accuracy: 0.9922\n",
            "Epoch 50/100\n",
            "766/766 [==============================] - 0s 45us/step - loss: 0.0809 - accuracy: 0.9935\n",
            "Epoch 51/100\n",
            "766/766 [==============================] - 0s 41us/step - loss: 0.0765 - accuracy: 0.9935\n",
            "Epoch 52/100\n",
            "766/766 [==============================] - 0s 44us/step - loss: 0.0725 - accuracy: 0.9948\n",
            "Epoch 53/100\n",
            "766/766 [==============================] - 0s 40us/step - loss: 0.0686 - accuracy: 0.9974\n",
            "Epoch 54/100\n",
            "766/766 [==============================] - 0s 40us/step - loss: 0.0652 - accuracy: 0.9961\n",
            "Epoch 55/100\n",
            "766/766 [==============================] - 0s 40us/step - loss: 0.0618 - accuracy: 0.9974\n",
            "Epoch 56/100\n",
            "766/766 [==============================] - 0s 42us/step - loss: 0.0594 - accuracy: 0.9974\n",
            "Epoch 57/100\n",
            "766/766 [==============================] - 0s 42us/step - loss: 0.0556 - accuracy: 0.9987\n",
            "Epoch 58/100\n",
            "766/766 [==============================] - 0s 42us/step - loss: 0.0518 - accuracy: 0.9987\n",
            "Epoch 59/100\n",
            "766/766 [==============================] - 0s 41us/step - loss: 0.0498 - accuracy: 0.9987\n",
            "Epoch 60/100\n",
            "766/766 [==============================] - 0s 44us/step - loss: 0.0474 - accuracy: 1.0000\n",
            "Epoch 61/100\n",
            "766/766 [==============================] - 0s 42us/step - loss: 0.0453 - accuracy: 1.0000\n",
            "Epoch 62/100\n",
            "766/766 [==============================] - 0s 42us/step - loss: 0.0439 - accuracy: 1.0000\n",
            "Epoch 63/100\n",
            "766/766 [==============================] - 0s 45us/step - loss: 0.0397 - accuracy: 1.0000\n",
            "Epoch 64/100\n",
            "766/766 [==============================] - 0s 44us/step - loss: 0.0385 - accuracy: 1.0000\n",
            "Epoch 65/100\n",
            "766/766 [==============================] - 0s 42us/step - loss: 0.0360 - accuracy: 1.0000\n",
            "Epoch 66/100\n",
            "766/766 [==============================] - 0s 45us/step - loss: 0.0344 - accuracy: 1.0000\n",
            "Epoch 67/100\n",
            "766/766 [==============================] - 0s 44us/step - loss: 0.0330 - accuracy: 1.0000\n",
            "Epoch 68/100\n",
            "766/766 [==============================] - 0s 42us/step - loss: 0.0315 - accuracy: 1.0000\n",
            "Epoch 69/100\n",
            "766/766 [==============================] - 0s 39us/step - loss: 0.0300 - accuracy: 1.0000\n",
            "Epoch 70/100\n",
            "766/766 [==============================] - 0s 41us/step - loss: 0.0289 - accuracy: 1.0000\n",
            "Epoch 71/100\n",
            "766/766 [==============================] - 0s 43us/step - loss: 0.0270 - accuracy: 1.0000\n",
            "Epoch 72/100\n",
            "766/766 [==============================] - 0s 41us/step - loss: 0.0264 - accuracy: 1.0000\n",
            "Epoch 73/100\n",
            "766/766 [==============================] - 0s 47us/step - loss: 0.0255 - accuracy: 1.0000\n",
            "Epoch 74/100\n",
            "766/766 [==============================] - 0s 40us/step - loss: 0.0239 - accuracy: 1.0000\n",
            "Epoch 75/100\n",
            "766/766 [==============================] - 0s 43us/step - loss: 0.0226 - accuracy: 1.0000\n",
            "Epoch 76/100\n",
            "766/766 [==============================] - 0s 44us/step - loss: 0.0216 - accuracy: 1.0000\n",
            "Epoch 77/100\n",
            "766/766 [==============================] - 0s 51us/step - loss: 0.0212 - accuracy: 1.0000\n",
            "Epoch 78/100\n",
            "766/766 [==============================] - 0s 51us/step - loss: 0.0200 - accuracy: 1.0000\n",
            "Epoch 79/100\n",
            "766/766 [==============================] - 0s 47us/step - loss: 0.0192 - accuracy: 1.0000\n",
            "Epoch 80/100\n",
            "766/766 [==============================] - 0s 49us/step - loss: 0.0180 - accuracy: 1.0000\n",
            "Epoch 81/100\n",
            "766/766 [==============================] - 0s 47us/step - loss: 0.0173 - accuracy: 1.0000\n",
            "Epoch 82/100\n",
            "766/766 [==============================] - 0s 53us/step - loss: 0.0168 - accuracy: 1.0000\n",
            "Epoch 83/100\n",
            "766/766 [==============================] - 0s 51us/step - loss: 0.0161 - accuracy: 1.0000\n",
            "Epoch 84/100\n",
            "766/766 [==============================] - 0s 49us/step - loss: 0.0153 - accuracy: 1.0000\n",
            "Epoch 85/100\n",
            "766/766 [==============================] - 0s 44us/step - loss: 0.0148 - accuracy: 1.0000\n",
            "Epoch 86/100\n",
            "766/766 [==============================] - 0s 48us/step - loss: 0.0141 - accuracy: 1.0000\n",
            "Epoch 87/100\n",
            "766/766 [==============================] - 0s 55us/step - loss: 0.0135 - accuracy: 1.0000\n",
            "Epoch 88/100\n",
            "766/766 [==============================] - 0s 55us/step - loss: 0.0134 - accuracy: 1.0000\n",
            "Epoch 89/100\n",
            "766/766 [==============================] - 0s 50us/step - loss: 0.0128 - accuracy: 1.0000\n",
            "Epoch 90/100\n",
            "766/766 [==============================] - 0s 52us/step - loss: 0.0125 - accuracy: 1.0000\n",
            "Epoch 91/100\n",
            "766/766 [==============================] - 0s 45us/step - loss: 0.0117 - accuracy: 1.0000\n",
            "Epoch 92/100\n",
            "766/766 [==============================] - 0s 40us/step - loss: 0.0113 - accuracy: 1.0000\n",
            "Epoch 93/100\n",
            "766/766 [==============================] - 0s 42us/step - loss: 0.0109 - accuracy: 1.0000\n",
            "Epoch 94/100\n",
            "766/766 [==============================] - 0s 39us/step - loss: 0.0105 - accuracy: 1.0000\n",
            "Epoch 95/100\n",
            "766/766 [==============================] - 0s 42us/step - loss: 0.0101 - accuracy: 1.0000\n",
            "Epoch 96/100\n",
            "766/766 [==============================] - 0s 41us/step - loss: 0.0098 - accuracy: 1.0000\n",
            "Epoch 97/100\n",
            "766/766 [==============================] - 0s 42us/step - loss: 0.0094 - accuracy: 1.0000\n",
            "Epoch 98/100\n",
            "766/766 [==============================] - 0s 42us/step - loss: 0.0092 - accuracy: 1.0000\n",
            "Epoch 99/100\n",
            "766/766 [==============================] - 0s 40us/step - loss: 0.0088 - accuracy: 1.0000\n",
            "Epoch 100/100\n",
            "766/766 [==============================] - 0s 45us/step - loss: 0.0085 - accuracy: 1.0000\n"
          ],
          "name": "stdout"
        },
        {
          "output_type": "execute_result",
          "data": {
            "text/plain": [
              "<keras.callbacks.callbacks.History at 0x7f1943068c18>"
            ]
          },
          "metadata": {
            "tags": []
          },
          "execution_count": 40
        }
      ]
    },
    {
      "cell_type": "code",
      "metadata": {
        "id": "r67FfOQs7QTu",
        "colab_type": "code",
        "colab": {}
      },
      "source": [
        "y_pred = model.predict(X_test)\n"
      ],
      "execution_count": 0,
      "outputs": []
    },
    {
      "cell_type": "code",
      "metadata": {
        "id": "7x9J2STd8Tex",
        "colab_type": "code",
        "colab": {
          "base_uri": "https://localhost:8080/",
          "height": 35
        },
        "outputId": "98b3425f-32d9-4876-9c7c-e69e86777b02"
      },
      "source": [
        "y_df = pd.DataFrame(y_test)\n",
        "y_df.shape"
      ],
      "execution_count": 42,
      "outputs": [
        {
          "output_type": "execute_result",
          "data": {
            "text/plain": [
              "(192, 1)"
            ]
          },
          "metadata": {
            "tags": []
          },
          "execution_count": 42
        }
      ]
    },
    {
      "cell_type": "code",
      "metadata": {
        "id": "ECQl-xqc7g5H",
        "colab_type": "code",
        "colab": {
          "base_uri": "https://localhost:8080/",
          "height": 276
        },
        "outputId": "396e89f0-2763-4fbd-d809-1c9c948bf0a8"
      },
      "source": [
        "loss = y_pred - y_df\n",
        "print(loss)"
      ],
      "execution_count": 43,
      "outputs": [
        {
          "output_type": "stream",
          "text": [
            "          V10\n",
            "60  -0.006477\n",
            "646  0.006737\n",
            "719  0.000003\n",
            "629  0.009948\n",
            "643  0.157391\n",
            "..        ...\n",
            "673  0.961220\n",
            "697  0.003591\n",
            "580 -0.000109\n",
            "204 -0.001319\n",
            "711  0.997388\n",
            "\n",
            "[192 rows x 1 columns]\n"
          ],
          "name": "stdout"
        }
      ]
    },
    {
      "cell_type": "markdown",
      "metadata": {
        "id": "2w50t9wS7UoU",
        "colab_type": "text"
      },
      "source": [
        "# Predictions"
      ]
    },
    {
      "cell_type": "code",
      "metadata": {
        "id": "zwflGj7i_wvu",
        "colab_type": "code",
        "colab": {
          "base_uri": "https://localhost:8080/",
          "height": 80
        },
        "outputId": "9df21a38-58ab-4284-c019-8497c4178797"
      },
      "source": [
        "data1 = pd.DataFrame(X_test.iloc[0]).transpose()\n",
        "data1.head()"
      ],
      "execution_count": 44,
      "outputs": [
        {
          "output_type": "execute_result",
          "data": {
            "text/html": [
              "<div>\n",
              "<style scoped>\n",
              "    .dataframe tbody tr th:only-of-type {\n",
              "        vertical-align: middle;\n",
              "    }\n",
              "\n",
              "    .dataframe tbody tr th {\n",
              "        vertical-align: top;\n",
              "    }\n",
              "\n",
              "    .dataframe thead th {\n",
              "        text-align: right;\n",
              "    }\n",
              "</style>\n",
              "<table border=\"1\" class=\"dataframe\">\n",
              "  <thead>\n",
              "    <tr style=\"text-align: right;\">\n",
              "      <th></th>\n",
              "      <th>V1</th>\n",
              "      <th>V2</th>\n",
              "      <th>V3</th>\n",
              "      <th>V4</th>\n",
              "      <th>V5</th>\n",
              "      <th>V6</th>\n",
              "      <th>V7</th>\n",
              "      <th>V8</th>\n",
              "      <th>V9</th>\n",
              "    </tr>\n",
              "  </thead>\n",
              "  <tbody>\n",
              "    <tr>\n",
              "      <th>60</th>\n",
              "      <td>1</td>\n",
              "      <td>1</td>\n",
              "      <td>1</td>\n",
              "      <td>-1</td>\n",
              "      <td>0</td>\n",
              "      <td>0</td>\n",
              "      <td>-1</td>\n",
              "      <td>1</td>\n",
              "      <td>0</td>\n",
              "    </tr>\n",
              "  </tbody>\n",
              "</table>\n",
              "</div>"
            ],
            "text/plain": [
              "    V1  V2  V3  V4  V5  V6  V7  V8  V9\n",
              "60   1   1   1  -1   0   0  -1   1   0"
            ]
          },
          "metadata": {
            "tags": []
          },
          "execution_count": 44
        }
      ]
    },
    {
      "cell_type": "code",
      "metadata": {
        "id": "ILc6bNAf94_F",
        "colab_type": "code",
        "colab": {
          "base_uri": "https://localhost:8080/",
          "height": 80
        },
        "outputId": "786c9428-fb9b-4a89-fce3-c57e36cc72e9"
      },
      "source": [
        "data2 = pd.DataFrame([[1 \t,-1 ,\t0 ,\t0 ,\t1, \t1 ,\t0 ,\t-1 ,\t1]])\n",
        "data2.head()"
      ],
      "execution_count": 45,
      "outputs": [
        {
          "output_type": "execute_result",
          "data": {
            "text/html": [
              "<div>\n",
              "<style scoped>\n",
              "    .dataframe tbody tr th:only-of-type {\n",
              "        vertical-align: middle;\n",
              "    }\n",
              "\n",
              "    .dataframe tbody tr th {\n",
              "        vertical-align: top;\n",
              "    }\n",
              "\n",
              "    .dataframe thead th {\n",
              "        text-align: right;\n",
              "    }\n",
              "</style>\n",
              "<table border=\"1\" class=\"dataframe\">\n",
              "  <thead>\n",
              "    <tr style=\"text-align: right;\">\n",
              "      <th></th>\n",
              "      <th>0</th>\n",
              "      <th>1</th>\n",
              "      <th>2</th>\n",
              "      <th>3</th>\n",
              "      <th>4</th>\n",
              "      <th>5</th>\n",
              "      <th>6</th>\n",
              "      <th>7</th>\n",
              "      <th>8</th>\n",
              "    </tr>\n",
              "  </thead>\n",
              "  <tbody>\n",
              "    <tr>\n",
              "      <th>0</th>\n",
              "      <td>1</td>\n",
              "      <td>-1</td>\n",
              "      <td>0</td>\n",
              "      <td>0</td>\n",
              "      <td>1</td>\n",
              "      <td>1</td>\n",
              "      <td>0</td>\n",
              "      <td>-1</td>\n",
              "      <td>1</td>\n",
              "    </tr>\n",
              "  </tbody>\n",
              "</table>\n",
              "</div>"
            ],
            "text/plain": [
              "   0  1  2  3  4  5  6  7  8\n",
              "0  1 -1  0  0  1  1  0 -1  1"
            ]
          },
          "metadata": {
            "tags": []
          },
          "execution_count": 45
        }
      ]
    },
    {
      "cell_type": "code",
      "metadata": {
        "id": "YMdQAlAM7yJ2",
        "colab_type": "code",
        "outputId": "3b8f309f-b07a-4f7d-cea2-ab841d781732",
        "colab": {
          "base_uri": "https://localhost:8080/",
          "height": 35
        }
      },
      "source": [
        "print(model.predict(data2))"
      ],
      "execution_count": 46,
      "outputs": [
        {
          "output_type": "stream",
          "text": [
            "[[0.99947923]]\n"
          ],
          "name": "stdout"
        }
      ]
    },
    {
      "cell_type": "code",
      "metadata": {
        "id": "udB9sj1e5zFl",
        "colab_type": "code",
        "colab": {}
      },
      "source": [
        "import numpy as np"
      ],
      "execution_count": 0,
      "outputs": []
    },
    {
      "cell_type": "code",
      "metadata": {
        "id": "DPeX9_cO23CL",
        "colab_type": "code",
        "colab": {
          "base_uri": "https://localhost:8080/",
          "height": 35
        },
        "outputId": "13dd45e7-5e80-48ef-936c-bb21fc194314"
      },
      "source": [
        "data3  = np.array([[1 \t,-1 ,\t0 ,\t0 ,\t1, \t1 ,\t0 ,\t-1 ,\t1]])\n",
        "print(model.predict(data3))"
      ],
      "execution_count": 56,
      "outputs": [
        {
          "output_type": "stream",
          "text": [
            "[[0.99947923]]\n"
          ],
          "name": "stdout"
        }
      ]
    },
    {
      "cell_type": "code",
      "metadata": {
        "id": "ANa3d-Gg6Np7",
        "colab_type": "code",
        "colab": {}
      },
      "source": [
        ""
      ],
      "execution_count": 0,
      "outputs": []
    }
  ]
}