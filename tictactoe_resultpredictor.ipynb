{
  "nbformat": 4,
  "nbformat_minor": 0,
  "metadata": {
    "colab": {
      "name": "tictactoe-resultpredictor.ipynb",
      "provenance": [],
      "collapsed_sections": [],
      "authorship_tag": "ABX9TyOifvMqOQCWWZ7QsZPZo7HR",
      "include_colab_link": true
    },
    "kernelspec": {
      "name": "python3",
      "display_name": "Python 3"
    }
  },
  "cells": [
    {
      "cell_type": "markdown",
      "metadata": {
        "id": "view-in-github",
        "colab_type": "text"
      },
      "source": [
        "<a href=\"https://colab.research.google.com/github/technicalclub-rcoem/Gamepad-101/blob/resultprediction/tictactoe_resultpredictor.ipynb\" target=\"_parent\"><img src=\"https://colab.research.google.com/assets/colab-badge.svg\" alt=\"Open In Colab\"/></a>"
      ]
    },
    {
      "cell_type": "markdown",
      "metadata": {
        "id": "8jHcStckg0Sp",
        "colab_type": "text"
      },
      "source": [
        "#Load the Dataset"
      ]
    },
    {
      "cell_type": "code",
      "metadata": {
        "id": "dfPMioFJXZ-j",
        "colab_type": "code",
        "colab": {}
      },
      "source": [
        "import pandas as pd"
      ],
      "execution_count": 0,
      "outputs": []
    },
    {
      "cell_type": "code",
      "metadata": {
        "id": "5Nm7ys7IgaTC",
        "colab_type": "code",
        "colab": {
          "base_uri": "https://localhost:8080/",
          "height": 240
        },
        "outputId": "0cce101d-df4d-4ba8-82c9-154e7fd59192"
      },
      "source": [
        "!wget https://raw.githubusercontent.com/technicalclub-rcoem/Gamepad-101/resultprediction/tictactoe-endgame-dataset-uci/tic-tac-toe-endgame.csv"
      ],
      "execution_count": 23,
      "outputs": [
        {
          "output_type": "stream",
          "text": [
            "--2020-05-06 06:20:40--  https://raw.githubusercontent.com/technicalclub-rcoem/Gamepad-101/resultprediction/tictactoe-endgame-dataset-uci/tic-tac-toe-endgame.csv\n",
            "Resolving raw.githubusercontent.com (raw.githubusercontent.com)... 151.101.0.133, 151.101.64.133, 151.101.128.133, ...\n",
            "Connecting to raw.githubusercontent.com (raw.githubusercontent.com)|151.101.0.133|:443... connected.\n",
            "HTTP request sent, awaiting response... 200 OK\n",
            "Length: 45077 (44K) [text/plain]\n",
            "Saving to: ‘tic-tac-toe-endgame.csv.1’\n",
            "\n",
            "\r          tic-tac-t   0%[                    ]       0  --.-KB/s               \rtic-tac-toe-endgame 100%[===================>]  44.02K  --.-KB/s    in 0.01s   \n",
            "\n",
            "2020-05-06 06:20:41 (3.07 MB/s) - ‘tic-tac-toe-endgame.csv.1’ saved [45077/45077]\n",
            "\n"
          ],
          "name": "stdout"
        }
      ]
    },
    {
      "cell_type": "code",
      "metadata": {
        "id": "f0Utmb_kgeY7",
        "colab_type": "code",
        "colab": {
          "base_uri": "https://localhost:8080/",
          "height": 206
        },
        "outputId": "6a74114a-0948-4ea5-d9c8-e1cc93f58de7"
      },
      "source": [
        "df = pd.read_csv('tic-tac-toe-endgame.csv')\n",
        "df.head()"
      ],
      "execution_count": 24,
      "outputs": [
        {
          "output_type": "execute_result",
          "data": {
            "text/html": [
              "<div>\n",
              "<style scoped>\n",
              "    .dataframe tbody tr th:only-of-type {\n",
              "        vertical-align: middle;\n",
              "    }\n",
              "\n",
              "    .dataframe tbody tr th {\n",
              "        vertical-align: top;\n",
              "    }\n",
              "\n",
              "    .dataframe thead th {\n",
              "        text-align: right;\n",
              "    }\n",
              "</style>\n",
              "<table border=\"1\" class=\"dataframe\">\n",
              "  <thead>\n",
              "    <tr style=\"text-align: right;\">\n",
              "      <th></th>\n",
              "      <th>V1</th>\n",
              "      <th>V2</th>\n",
              "      <th>V3</th>\n",
              "      <th>V4</th>\n",
              "      <th>V5</th>\n",
              "      <th>V6</th>\n",
              "      <th>V7</th>\n",
              "      <th>V8</th>\n",
              "      <th>V9</th>\n",
              "      <th>V10</th>\n",
              "    </tr>\n",
              "  </thead>\n",
              "  <tbody>\n",
              "    <tr>\n",
              "      <th>0</th>\n",
              "      <td>x</td>\n",
              "      <td>x</td>\n",
              "      <td>x</td>\n",
              "      <td>x</td>\n",
              "      <td>o</td>\n",
              "      <td>o</td>\n",
              "      <td>x</td>\n",
              "      <td>o</td>\n",
              "      <td>o</td>\n",
              "      <td>positive</td>\n",
              "    </tr>\n",
              "    <tr>\n",
              "      <th>1</th>\n",
              "      <td>x</td>\n",
              "      <td>x</td>\n",
              "      <td>x</td>\n",
              "      <td>x</td>\n",
              "      <td>o</td>\n",
              "      <td>o</td>\n",
              "      <td>o</td>\n",
              "      <td>x</td>\n",
              "      <td>o</td>\n",
              "      <td>positive</td>\n",
              "    </tr>\n",
              "    <tr>\n",
              "      <th>2</th>\n",
              "      <td>x</td>\n",
              "      <td>x</td>\n",
              "      <td>x</td>\n",
              "      <td>x</td>\n",
              "      <td>o</td>\n",
              "      <td>o</td>\n",
              "      <td>o</td>\n",
              "      <td>o</td>\n",
              "      <td>x</td>\n",
              "      <td>positive</td>\n",
              "    </tr>\n",
              "    <tr>\n",
              "      <th>3</th>\n",
              "      <td>x</td>\n",
              "      <td>x</td>\n",
              "      <td>x</td>\n",
              "      <td>x</td>\n",
              "      <td>o</td>\n",
              "      <td>o</td>\n",
              "      <td>o</td>\n",
              "      <td>b</td>\n",
              "      <td>b</td>\n",
              "      <td>positive</td>\n",
              "    </tr>\n",
              "    <tr>\n",
              "      <th>4</th>\n",
              "      <td>x</td>\n",
              "      <td>x</td>\n",
              "      <td>x</td>\n",
              "      <td>x</td>\n",
              "      <td>o</td>\n",
              "      <td>o</td>\n",
              "      <td>b</td>\n",
              "      <td>o</td>\n",
              "      <td>b</td>\n",
              "      <td>positive</td>\n",
              "    </tr>\n",
              "  </tbody>\n",
              "</table>\n",
              "</div>"
            ],
            "text/plain": [
              "  V1 V2 V3 V4 V5 V6 V7 V8 V9       V10\n",
              "0  x  x  x  x  o  o  x  o  o  positive\n",
              "1  x  x  x  x  o  o  o  x  o  positive\n",
              "2  x  x  x  x  o  o  o  o  x  positive\n",
              "3  x  x  x  x  o  o  o  b  b  positive\n",
              "4  x  x  x  x  o  o  b  o  b  positive"
            ]
          },
          "metadata": {
            "tags": []
          },
          "execution_count": 24
        }
      ]
    },
    {
      "cell_type": "markdown",
      "metadata": {
        "id": "ILN6qBfehWEE",
        "colab_type": "text"
      },
      "source": [
        "#Explore the data"
      ]
    },
    {
      "cell_type": "code",
      "metadata": {
        "id": "DRHino6ohUOJ",
        "colab_type": "code",
        "colab": {
          "base_uri": "https://localhost:8080/",
          "height": 35
        },
        "outputId": "93a6f1e9-da86-4c9a-960e-e26a277be8c0"
      },
      "source": [
        "df.shape"
      ],
      "execution_count": 25,
      "outputs": [
        {
          "output_type": "execute_result",
          "data": {
            "text/plain": [
              "(958, 10)"
            ]
          },
          "metadata": {
            "tags": []
          },
          "execution_count": 25
        }
      ]
    },
    {
      "cell_type": "code",
      "metadata": {
        "id": "n2e6JJ2bgtlm",
        "colab_type": "code",
        "colab": {
          "base_uri": "https://localhost:8080/",
          "height": 175
        },
        "outputId": "acd40700-6796-47b8-ae39-4d35145b33bf"
      },
      "source": [
        "df.describe()"
      ],
      "execution_count": 26,
      "outputs": [
        {
          "output_type": "execute_result",
          "data": {
            "text/html": [
              "<div>\n",
              "<style scoped>\n",
              "    .dataframe tbody tr th:only-of-type {\n",
              "        vertical-align: middle;\n",
              "    }\n",
              "\n",
              "    .dataframe tbody tr th {\n",
              "        vertical-align: top;\n",
              "    }\n",
              "\n",
              "    .dataframe thead th {\n",
              "        text-align: right;\n",
              "    }\n",
              "</style>\n",
              "<table border=\"1\" class=\"dataframe\">\n",
              "  <thead>\n",
              "    <tr style=\"text-align: right;\">\n",
              "      <th></th>\n",
              "      <th>V1</th>\n",
              "      <th>V2</th>\n",
              "      <th>V3</th>\n",
              "      <th>V4</th>\n",
              "      <th>V5</th>\n",
              "      <th>V6</th>\n",
              "      <th>V7</th>\n",
              "      <th>V8</th>\n",
              "      <th>V9</th>\n",
              "      <th>V10</th>\n",
              "    </tr>\n",
              "  </thead>\n",
              "  <tbody>\n",
              "    <tr>\n",
              "      <th>count</th>\n",
              "      <td>958</td>\n",
              "      <td>958</td>\n",
              "      <td>958</td>\n",
              "      <td>958</td>\n",
              "      <td>958</td>\n",
              "      <td>958</td>\n",
              "      <td>958</td>\n",
              "      <td>958</td>\n",
              "      <td>958</td>\n",
              "      <td>958</td>\n",
              "    </tr>\n",
              "    <tr>\n",
              "      <th>unique</th>\n",
              "      <td>3</td>\n",
              "      <td>3</td>\n",
              "      <td>3</td>\n",
              "      <td>3</td>\n",
              "      <td>3</td>\n",
              "      <td>3</td>\n",
              "      <td>3</td>\n",
              "      <td>3</td>\n",
              "      <td>3</td>\n",
              "      <td>2</td>\n",
              "    </tr>\n",
              "    <tr>\n",
              "      <th>top</th>\n",
              "      <td>x</td>\n",
              "      <td>x</td>\n",
              "      <td>x</td>\n",
              "      <td>x</td>\n",
              "      <td>x</td>\n",
              "      <td>x</td>\n",
              "      <td>x</td>\n",
              "      <td>x</td>\n",
              "      <td>x</td>\n",
              "      <td>positive</td>\n",
              "    </tr>\n",
              "    <tr>\n",
              "      <th>freq</th>\n",
              "      <td>418</td>\n",
              "      <td>378</td>\n",
              "      <td>418</td>\n",
              "      <td>378</td>\n",
              "      <td>458</td>\n",
              "      <td>378</td>\n",
              "      <td>418</td>\n",
              "      <td>378</td>\n",
              "      <td>418</td>\n",
              "      <td>626</td>\n",
              "    </tr>\n",
              "  </tbody>\n",
              "</table>\n",
              "</div>"
            ],
            "text/plain": [
              "         V1   V2   V3   V4   V5   V6   V7   V8   V9       V10\n",
              "count   958  958  958  958  958  958  958  958  958       958\n",
              "unique    3    3    3    3    3    3    3    3    3         2\n",
              "top       x    x    x    x    x    x    x    x    x  positive\n",
              "freq    418  378  418  378  458  378  418  378  418       626"
            ]
          },
          "metadata": {
            "tags": []
          },
          "execution_count": 26
        }
      ]
    },
    {
      "cell_type": "markdown",
      "metadata": {
        "id": "6Y_A5JHkiUDN",
        "colab_type": "text"
      },
      "source": [
        "#Preprocess data"
      ]
    },
    {
      "cell_type": "code",
      "metadata": {
        "id": "LI_HlC03hQIx",
        "colab_type": "code",
        "colab": {
          "base_uri": "https://localhost:8080/",
          "height": 206
        },
        "outputId": "a761c975-93a3-4b01-d0d0-ff7e0f871982"
      },
      "source": [
        "df = df.replace(to_replace='b',value=-1)    # blank --> -1\n",
        "df = df.replace(to_replace='o',value=0)     # o --> 0\n",
        "df = df.replace(to_replace='x',value=1)     # x --> 1\n",
        "df = df.replace(to_replace='positive',value=1)  # x wins -- 1\n",
        "df = df.replace(to_replace='negative',value=0)  # x lose -- 0\n",
        "df.head()"
      ],
      "execution_count": 27,
      "outputs": [
        {
          "output_type": "execute_result",
          "data": {
            "text/html": [
              "<div>\n",
              "<style scoped>\n",
              "    .dataframe tbody tr th:only-of-type {\n",
              "        vertical-align: middle;\n",
              "    }\n",
              "\n",
              "    .dataframe tbody tr th {\n",
              "        vertical-align: top;\n",
              "    }\n",
              "\n",
              "    .dataframe thead th {\n",
              "        text-align: right;\n",
              "    }\n",
              "</style>\n",
              "<table border=\"1\" class=\"dataframe\">\n",
              "  <thead>\n",
              "    <tr style=\"text-align: right;\">\n",
              "      <th></th>\n",
              "      <th>V1</th>\n",
              "      <th>V2</th>\n",
              "      <th>V3</th>\n",
              "      <th>V4</th>\n",
              "      <th>V5</th>\n",
              "      <th>V6</th>\n",
              "      <th>V7</th>\n",
              "      <th>V8</th>\n",
              "      <th>V9</th>\n",
              "      <th>V10</th>\n",
              "    </tr>\n",
              "  </thead>\n",
              "  <tbody>\n",
              "    <tr>\n",
              "      <th>0</th>\n",
              "      <td>1</td>\n",
              "      <td>1</td>\n",
              "      <td>1</td>\n",
              "      <td>1</td>\n",
              "      <td>0</td>\n",
              "      <td>0</td>\n",
              "      <td>1</td>\n",
              "      <td>0</td>\n",
              "      <td>0</td>\n",
              "      <td>1</td>\n",
              "    </tr>\n",
              "    <tr>\n",
              "      <th>1</th>\n",
              "      <td>1</td>\n",
              "      <td>1</td>\n",
              "      <td>1</td>\n",
              "      <td>1</td>\n",
              "      <td>0</td>\n",
              "      <td>0</td>\n",
              "      <td>0</td>\n",
              "      <td>1</td>\n",
              "      <td>0</td>\n",
              "      <td>1</td>\n",
              "    </tr>\n",
              "    <tr>\n",
              "      <th>2</th>\n",
              "      <td>1</td>\n",
              "      <td>1</td>\n",
              "      <td>1</td>\n",
              "      <td>1</td>\n",
              "      <td>0</td>\n",
              "      <td>0</td>\n",
              "      <td>0</td>\n",
              "      <td>0</td>\n",
              "      <td>1</td>\n",
              "      <td>1</td>\n",
              "    </tr>\n",
              "    <tr>\n",
              "      <th>3</th>\n",
              "      <td>1</td>\n",
              "      <td>1</td>\n",
              "      <td>1</td>\n",
              "      <td>1</td>\n",
              "      <td>0</td>\n",
              "      <td>0</td>\n",
              "      <td>0</td>\n",
              "      <td>-1</td>\n",
              "      <td>-1</td>\n",
              "      <td>1</td>\n",
              "    </tr>\n",
              "    <tr>\n",
              "      <th>4</th>\n",
              "      <td>1</td>\n",
              "      <td>1</td>\n",
              "      <td>1</td>\n",
              "      <td>1</td>\n",
              "      <td>0</td>\n",
              "      <td>0</td>\n",
              "      <td>-1</td>\n",
              "      <td>0</td>\n",
              "      <td>-1</td>\n",
              "      <td>1</td>\n",
              "    </tr>\n",
              "  </tbody>\n",
              "</table>\n",
              "</div>"
            ],
            "text/plain": [
              "   V1  V2  V3  V4  V5  V6  V7  V8  V9  V10\n",
              "0   1   1   1   1   0   0   1   0   0    1\n",
              "1   1   1   1   1   0   0   0   1   0    1\n",
              "2   1   1   1   1   0   0   0   0   1    1\n",
              "3   1   1   1   1   0   0   0  -1  -1    1\n",
              "4   1   1   1   1   0   0  -1   0  -1    1"
            ]
          },
          "metadata": {
            "tags": []
          },
          "execution_count": 27
        }
      ]
    },
    {
      "cell_type": "markdown",
      "metadata": {
        "id": "CLQ6KdmsqXE0",
        "colab_type": "text"
      },
      "source": [
        "#Split data"
      ]
    },
    {
      "cell_type": "code",
      "metadata": {
        "id": "QaheV8ZmikLj",
        "colab_type": "code",
        "colab": {}
      },
      "source": [
        "from sklearn.model_selection import train_test_split\n",
        "\n",
        "X_train, X_test, y_train, y_test = train_test_split(df, df.V10, test_size=0.2)\n",
        "\n",
        "X_train = X_train.drop(['V10'],axis = 1)\n",
        "X_test  = X_test.drop(['V10'],axis = 1)"
      ],
      "execution_count": 0,
      "outputs": []
    },
    {
      "cell_type": "code",
      "metadata": {
        "id": "Fwvy9CCZzZWe",
        "colab_type": "code",
        "colab": {
          "base_uri": "https://localhost:8080/",
          "height": 35
        },
        "outputId": "621ef41d-98a8-46f4-c9b4-9db5062e96e9"
      },
      "source": [
        "X_train.shape"
      ],
      "execution_count": 60,
      "outputs": [
        {
          "output_type": "execute_result",
          "data": {
            "text/plain": [
              "(766, 9)"
            ]
          },
          "metadata": {
            "tags": []
          },
          "execution_count": 60
        }
      ]
    },
    {
      "cell_type": "markdown",
      "metadata": {
        "id": "EHxFOR3OzjOJ",
        "colab_type": "text"
      },
      "source": [
        "#Create the model"
      ]
    },
    {
      "cell_type": "code",
      "metadata": {
        "id": "XH1cAzAdznBp",
        "colab_type": "code",
        "colab": {}
      },
      "source": [
        "from tensorflow import keras\n",
        "from keras.models import Sequential\n",
        "from keras.layers import Dense"
      ],
      "execution_count": 0,
      "outputs": []
    },
    {
      "cell_type": "code",
      "metadata": {
        "id": "zzt9ys4e0i4L",
        "colab_type": "code",
        "colab": {
          "base_uri": "https://localhost:8080/",
          "height": 35
        },
        "outputId": "0b5ae42f-e610-420c-c1d1-f67d1d67c14f"
      },
      "source": [
        "inputs = X_train.shape[1]\n",
        "print(inputs)"
      ],
      "execution_count": 101,
      "outputs": [
        {
          "output_type": "stream",
          "text": [
            "9\n"
          ],
          "name": "stdout"
        }
      ]
    },
    {
      "cell_type": "code",
      "metadata": {
        "id": "-aq95yIzzuXP",
        "colab_type": "code",
        "colab": {}
      },
      "source": [
        "#Model\n",
        "# def create_baseline():\n",
        "# create model\n",
        "model = Sequential()\n",
        "model.add(Dense(60, input_shape= (X_train.shape[1],), activation='relu'))\n",
        "model.add(Dense(60, activation='relu'))\n",
        "model.add(Dense(1, activation='sigmoid'))\n",
        "# Compile model\n",
        "model.compile(loss='binary_crossentropy', optimizer='adam', metrics=['accuracy'])\n",
        "# return model"
      ],
      "execution_count": 0,
      "outputs": []
    },
    {
      "cell_type": "code",
      "metadata": {
        "id": "ZkM6HJpk3Ysl",
        "colab_type": "code",
        "colab": {
          "base_uri": "https://localhost:8080/",
          "height": 276
        },
        "outputId": "dafd50a0-6863-4b7b-9e86-f4992338d8df"
      },
      "source": [
        "model.summary()"
      ],
      "execution_count": 84,
      "outputs": [
        {
          "output_type": "stream",
          "text": [
            "Model: \"sequential_5\"\n",
            "_________________________________________________________________\n",
            "Layer (type)                 Output Shape              Param #   \n",
            "=================================================================\n",
            "dense_17 (Dense)             (None, 60)                600       \n",
            "_________________________________________________________________\n",
            "dense_18 (Dense)             (None, 60)                3660      \n",
            "_________________________________________________________________\n",
            "dense_19 (Dense)             (None, 1)                 61        \n",
            "=================================================================\n",
            "Total params: 4,321\n",
            "Trainable params: 4,321\n",
            "Non-trainable params: 0\n",
            "_________________________________________________________________\n"
          ],
          "name": "stdout"
        }
      ]
    },
    {
      "cell_type": "code",
      "metadata": {
        "id": "syVsPItn4qYp",
        "colab_type": "code",
        "colab": {
          "base_uri": "https://localhost:8080/",
          "height": 54
        },
        "outputId": "cca401b3-bd55-42a9-b3c6-709255d8e926"
      },
      "source": [
        "val = model.evaluate(X_test,y_test)\n",
        "print(val)"
      ],
      "execution_count": 85,
      "outputs": [
        {
          "output_type": "stream",
          "text": [
            "192/192 [==============================] - 0s 1ms/step\n",
            "[0.7688010533650717, 0.3541666567325592]\n"
          ],
          "name": "stdout"
        }
      ]
    },
    {
      "cell_type": "code",
      "metadata": {
        "id": "sGZZErhv7I0w",
        "colab_type": "code",
        "colab": {
          "base_uri": "https://localhost:8080/",
          "height": 1000
        },
        "outputId": "50138b41-acb6-499d-bc8f-ea5874295bd7"
      },
      "source": [
        "model.fit(X_train,y_train, epochs=100)\n"
      ],
      "execution_count": 87,
      "outputs": [
        {
          "output_type": "stream",
          "text": [
            "Epoch 1/100\n",
            "766/766 [==============================] - 0s 48us/step - loss: 0.6212 - accuracy: 0.6606\n",
            "Epoch 2/100\n",
            "766/766 [==============================] - 0s 39us/step - loss: 0.6018 - accuracy: 0.6802\n",
            "Epoch 3/100\n",
            "766/766 [==============================] - 0s 42us/step - loss: 0.5860 - accuracy: 0.6971\n",
            "Epoch 4/100\n",
            "766/766 [==============================] - 0s 40us/step - loss: 0.5689 - accuracy: 0.7141\n",
            "Epoch 5/100\n",
            "766/766 [==============================] - 0s 44us/step - loss: 0.5541 - accuracy: 0.7298\n",
            "Epoch 6/100\n",
            "766/766 [==============================] - 0s 40us/step - loss: 0.5351 - accuracy: 0.7520\n",
            "Epoch 7/100\n",
            "766/766 [==============================] - 0s 39us/step - loss: 0.5166 - accuracy: 0.7559\n",
            "Epoch 8/100\n",
            "766/766 [==============================] - 0s 45us/step - loss: 0.4958 - accuracy: 0.7807\n",
            "Epoch 9/100\n",
            "766/766 [==============================] - 0s 43us/step - loss: 0.4753 - accuracy: 0.8055\n",
            "Epoch 10/100\n",
            "766/766 [==============================] - 0s 42us/step - loss: 0.4557 - accuracy: 0.8198\n",
            "Epoch 11/100\n",
            "766/766 [==============================] - 0s 42us/step - loss: 0.4375 - accuracy: 0.8303\n",
            "Epoch 12/100\n",
            "766/766 [==============================] - 0s 41us/step - loss: 0.4181 - accuracy: 0.8316\n",
            "Epoch 13/100\n",
            "766/766 [==============================] - 0s 44us/step - loss: 0.4024 - accuracy: 0.8460\n",
            "Epoch 14/100\n",
            "766/766 [==============================] - 0s 45us/step - loss: 0.3891 - accuracy: 0.8460\n",
            "Epoch 15/100\n",
            "766/766 [==============================] - 0s 43us/step - loss: 0.3748 - accuracy: 0.8538\n",
            "Epoch 16/100\n",
            "766/766 [==============================] - 0s 41us/step - loss: 0.3619 - accuracy: 0.8564\n",
            "Epoch 17/100\n",
            "766/766 [==============================] - 0s 41us/step - loss: 0.3516 - accuracy: 0.8460\n",
            "Epoch 18/100\n",
            "766/766 [==============================] - 0s 47us/step - loss: 0.3402 - accuracy: 0.8655\n",
            "Epoch 19/100\n",
            "766/766 [==============================] - 0s 40us/step - loss: 0.3290 - accuracy: 0.8668\n",
            "Epoch 20/100\n",
            "766/766 [==============================] - 0s 43us/step - loss: 0.3218 - accuracy: 0.8655\n",
            "Epoch 21/100\n",
            "766/766 [==============================] - 0s 45us/step - loss: 0.3128 - accuracy: 0.8760\n",
            "Epoch 22/100\n",
            "766/766 [==============================] - 0s 41us/step - loss: 0.3040 - accuracy: 0.8773\n",
            "Epoch 23/100\n",
            "766/766 [==============================] - 0s 42us/step - loss: 0.3012 - accuracy: 0.8747\n",
            "Epoch 24/100\n",
            "766/766 [==============================] - 0s 42us/step - loss: 0.2898 - accuracy: 0.8838\n",
            "Epoch 25/100\n",
            "766/766 [==============================] - 0s 42us/step - loss: 0.2814 - accuracy: 0.8838\n",
            "Epoch 26/100\n",
            "766/766 [==============================] - 0s 43us/step - loss: 0.2730 - accuracy: 0.8956\n",
            "Epoch 27/100\n",
            "766/766 [==============================] - 0s 43us/step - loss: 0.2679 - accuracy: 0.8956\n",
            "Epoch 28/100\n",
            "766/766 [==============================] - 0s 43us/step - loss: 0.2627 - accuracy: 0.8982\n",
            "Epoch 29/100\n",
            "766/766 [==============================] - 0s 41us/step - loss: 0.2514 - accuracy: 0.9060\n",
            "Epoch 30/100\n",
            "766/766 [==============================] - 0s 45us/step - loss: 0.2468 - accuracy: 0.9073\n",
            "Epoch 31/100\n",
            "766/766 [==============================] - 0s 38us/step - loss: 0.2380 - accuracy: 0.9191\n",
            "Epoch 32/100\n",
            "766/766 [==============================] - 0s 53us/step - loss: 0.2327 - accuracy: 0.9138\n",
            "Epoch 33/100\n",
            "766/766 [==============================] - 0s 41us/step - loss: 0.2270 - accuracy: 0.9243\n",
            "Epoch 34/100\n",
            "766/766 [==============================] - 0s 41us/step - loss: 0.2192 - accuracy: 0.9269\n",
            "Epoch 35/100\n",
            "766/766 [==============================] - 0s 43us/step - loss: 0.2139 - accuracy: 0.9230\n",
            "Epoch 36/100\n",
            "766/766 [==============================] - 0s 40us/step - loss: 0.2071 - accuracy: 0.9308\n",
            "Epoch 37/100\n",
            "766/766 [==============================] - 0s 42us/step - loss: 0.2037 - accuracy: 0.9282\n",
            "Epoch 38/100\n",
            "766/766 [==============================] - 0s 47us/step - loss: 0.1984 - accuracy: 0.9360\n",
            "Epoch 39/100\n",
            "766/766 [==============================] - 0s 45us/step - loss: 0.1856 - accuracy: 0.9347\n",
            "Epoch 40/100\n",
            "766/766 [==============================] - 0s 50us/step - loss: 0.1809 - accuracy: 0.9439\n",
            "Epoch 41/100\n",
            "766/766 [==============================] - 0s 42us/step - loss: 0.1788 - accuracy: 0.9439\n",
            "Epoch 42/100\n",
            "766/766 [==============================] - 0s 43us/step - loss: 0.1699 - accuracy: 0.9439\n",
            "Epoch 43/100\n",
            "766/766 [==============================] - 0s 44us/step - loss: 0.1651 - accuracy: 0.9478\n",
            "Epoch 44/100\n",
            "766/766 [==============================] - 0s 43us/step - loss: 0.1619 - accuracy: 0.9465\n",
            "Epoch 45/100\n",
            "766/766 [==============================] - 0s 42us/step - loss: 0.1547 - accuracy: 0.9491\n",
            "Epoch 46/100\n",
            "766/766 [==============================] - 0s 40us/step - loss: 0.1485 - accuracy: 0.9595\n",
            "Epoch 47/100\n",
            "766/766 [==============================] - 0s 48us/step - loss: 0.1422 - accuracy: 0.9595\n",
            "Epoch 48/100\n",
            "766/766 [==============================] - 0s 41us/step - loss: 0.1386 - accuracy: 0.9648\n",
            "Epoch 49/100\n",
            "766/766 [==============================] - 0s 42us/step - loss: 0.1352 - accuracy: 0.9687\n",
            "Epoch 50/100\n",
            "766/766 [==============================] - 0s 40us/step - loss: 0.1300 - accuracy: 0.9595\n",
            "Epoch 51/100\n",
            "766/766 [==============================] - 0s 42us/step - loss: 0.1214 - accuracy: 0.9713\n",
            "Epoch 52/100\n",
            "766/766 [==============================] - 0s 39us/step - loss: 0.1168 - accuracy: 0.9726\n",
            "Epoch 53/100\n",
            "766/766 [==============================] - 0s 44us/step - loss: 0.1136 - accuracy: 0.9778\n",
            "Epoch 54/100\n",
            "766/766 [==============================] - 0s 43us/step - loss: 0.1106 - accuracy: 0.9739\n",
            "Epoch 55/100\n",
            "766/766 [==============================] - 0s 42us/step - loss: 0.1057 - accuracy: 0.9765\n",
            "Epoch 56/100\n",
            "766/766 [==============================] - 0s 41us/step - loss: 0.0988 - accuracy: 0.9869\n",
            "Epoch 57/100\n",
            "766/766 [==============================] - 0s 45us/step - loss: 0.0969 - accuracy: 0.9830\n",
            "Epoch 58/100\n",
            "766/766 [==============================] - 0s 49us/step - loss: 0.0921 - accuracy: 0.9883\n",
            "Epoch 59/100\n",
            "766/766 [==============================] - 0s 47us/step - loss: 0.0896 - accuracy: 0.9856\n",
            "Epoch 60/100\n",
            "766/766 [==============================] - 0s 39us/step - loss: 0.0852 - accuracy: 0.9896\n",
            "Epoch 61/100\n",
            "766/766 [==============================] - 0s 42us/step - loss: 0.0800 - accuracy: 0.9922\n",
            "Epoch 62/100\n",
            "766/766 [==============================] - 0s 41us/step - loss: 0.0767 - accuracy: 0.9935\n",
            "Epoch 63/100\n",
            "766/766 [==============================] - 0s 43us/step - loss: 0.0724 - accuracy: 0.9935\n",
            "Epoch 64/100\n",
            "766/766 [==============================] - 0s 42us/step - loss: 0.0715 - accuracy: 0.9909\n",
            "Epoch 65/100\n",
            "766/766 [==============================] - 0s 38us/step - loss: 0.0664 - accuracy: 0.9948\n",
            "Epoch 66/100\n",
            "766/766 [==============================] - 0s 45us/step - loss: 0.0651 - accuracy: 0.9948\n",
            "Epoch 67/100\n",
            "766/766 [==============================] - 0s 43us/step - loss: 0.0626 - accuracy: 0.9948\n",
            "Epoch 68/100\n",
            "766/766 [==============================] - 0s 41us/step - loss: 0.0591 - accuracy: 0.9961\n",
            "Epoch 69/100\n",
            "766/766 [==============================] - 0s 41us/step - loss: 0.0563 - accuracy: 0.9974\n",
            "Epoch 70/100\n",
            "766/766 [==============================] - 0s 42us/step - loss: 0.0542 - accuracy: 0.9987\n",
            "Epoch 71/100\n",
            "766/766 [==============================] - 0s 43us/step - loss: 0.0500 - accuracy: 1.0000\n",
            "Epoch 72/100\n",
            "766/766 [==============================] - 0s 40us/step - loss: 0.0507 - accuracy: 0.9974\n",
            "Epoch 73/100\n",
            "766/766 [==============================] - 0s 45us/step - loss: 0.0481 - accuracy: 0.9974\n",
            "Epoch 74/100\n",
            "766/766 [==============================] - 0s 46us/step - loss: 0.0441 - accuracy: 0.9987\n",
            "Epoch 75/100\n",
            "766/766 [==============================] - 0s 41us/step - loss: 0.0421 - accuracy: 1.0000\n",
            "Epoch 76/100\n",
            "766/766 [==============================] - 0s 41us/step - loss: 0.0413 - accuracy: 1.0000\n",
            "Epoch 77/100\n",
            "766/766 [==============================] - 0s 48us/step - loss: 0.0392 - accuracy: 0.9987\n",
            "Epoch 78/100\n",
            "766/766 [==============================] - 0s 46us/step - loss: 0.0385 - accuracy: 1.0000\n",
            "Epoch 79/100\n",
            "766/766 [==============================] - 0s 46us/step - loss: 0.0361 - accuracy: 0.9987\n",
            "Epoch 80/100\n",
            "766/766 [==============================] - 0s 43us/step - loss: 0.0359 - accuracy: 1.0000\n",
            "Epoch 81/100\n",
            "766/766 [==============================] - 0s 42us/step - loss: 0.0326 - accuracy: 1.0000\n",
            "Epoch 82/100\n",
            "766/766 [==============================] - 0s 40us/step - loss: 0.0312 - accuracy: 1.0000\n",
            "Epoch 83/100\n",
            "766/766 [==============================] - 0s 39us/step - loss: 0.0307 - accuracy: 1.0000\n",
            "Epoch 84/100\n",
            "766/766 [==============================] - 0s 40us/step - loss: 0.0287 - accuracy: 1.0000\n",
            "Epoch 85/100\n",
            "766/766 [==============================] - 0s 43us/step - loss: 0.0276 - accuracy: 1.0000\n",
            "Epoch 86/100\n",
            "766/766 [==============================] - 0s 43us/step - loss: 0.0261 - accuracy: 1.0000\n",
            "Epoch 87/100\n",
            "766/766 [==============================] - 0s 44us/step - loss: 0.0255 - accuracy: 1.0000\n",
            "Epoch 88/100\n",
            "766/766 [==============================] - 0s 43us/step - loss: 0.0245 - accuracy: 1.0000\n",
            "Epoch 89/100\n",
            "766/766 [==============================] - 0s 42us/step - loss: 0.0232 - accuracy: 1.0000\n",
            "Epoch 90/100\n",
            "766/766 [==============================] - 0s 41us/step - loss: 0.0224 - accuracy: 1.0000\n",
            "Epoch 91/100\n",
            "766/766 [==============================] - 0s 39us/step - loss: 0.0223 - accuracy: 1.0000\n",
            "Epoch 92/100\n",
            "766/766 [==============================] - 0s 41us/step - loss: 0.0209 - accuracy: 1.0000\n",
            "Epoch 93/100\n",
            "766/766 [==============================] - 0s 44us/step - loss: 0.0201 - accuracy: 1.0000\n",
            "Epoch 94/100\n",
            "766/766 [==============================] - 0s 43us/step - loss: 0.0190 - accuracy: 1.0000\n",
            "Epoch 95/100\n",
            "766/766 [==============================] - 0s 46us/step - loss: 0.0185 - accuracy: 1.0000\n",
            "Epoch 96/100\n",
            "766/766 [==============================] - 0s 47us/step - loss: 0.0178 - accuracy: 1.0000\n",
            "Epoch 97/100\n",
            "766/766 [==============================] - 0s 39us/step - loss: 0.0172 - accuracy: 1.0000\n",
            "Epoch 98/100\n",
            "766/766 [==============================] - 0s 40us/step - loss: 0.0170 - accuracy: 1.0000\n",
            "Epoch 99/100\n",
            "766/766 [==============================] - 0s 41us/step - loss: 0.0163 - accuracy: 1.0000\n",
            "Epoch 100/100\n",
            "766/766 [==============================] - 0s 43us/step - loss: 0.0159 - accuracy: 1.0000\n"
          ],
          "name": "stdout"
        },
        {
          "output_type": "execute_result",
          "data": {
            "text/plain": [
              "<keras.callbacks.callbacks.History at 0x7f61e6c83e10>"
            ]
          },
          "metadata": {
            "tags": []
          },
          "execution_count": 87
        }
      ]
    },
    {
      "cell_type": "code",
      "metadata": {
        "id": "r67FfOQs7QTu",
        "colab_type": "code",
        "colab": {}
      },
      "source": [
        "y_pred = model.predict(X_test)\n"
      ],
      "execution_count": 0,
      "outputs": []
    },
    {
      "cell_type": "code",
      "metadata": {
        "id": "7x9J2STd8Tex",
        "colab_type": "code",
        "colab": {}
      },
      "source": [
        "y_df = pd.DataFrame(y_test)\n",
        "y_df.shape"
      ],
      "execution_count": 0,
      "outputs": []
    },
    {
      "cell_type": "code",
      "metadata": {
        "id": "ECQl-xqc7g5H",
        "colab_type": "code",
        "colab": {
          "base_uri": "https://localhost:8080/",
          "height": 276
        },
        "outputId": "e4696617-842a-42ae-8131-14ef60fce4fa"
      },
      "source": [
        "loss = y_pred - y_df\n",
        "print(loss)"
      ],
      "execution_count": 99,
      "outputs": [
        {
          "output_type": "stream",
          "text": [
            "          V10\n",
            "259 -0.009481\n",
            "957  0.123926\n",
            "213 -0.013741\n",
            "361 -0.002818\n",
            "587 -0.000259\n",
            "..        ...\n",
            "624 -0.000081\n",
            "13  -0.023044\n",
            "274 -0.111913\n",
            "288 -0.003478\n",
            "934  0.183143\n",
            "\n",
            "[192 rows x 1 columns]\n"
          ],
          "name": "stdout"
        }
      ]
    },
    {
      "cell_type": "code",
      "metadata": {
        "id": "zwflGj7i_wvu",
        "colab_type": "code",
        "colab": {
          "base_uri": "https://localhost:8080/",
          "height": 80
        },
        "outputId": "e1f30097-04ad-4c09-aef8-2e0a2e0046e4"
      },
      "source": [
        "data = pd.DataFrame(X_test.iloc[0]).transpose()\n",
        "data.head()"
      ],
      "execution_count": 118,
      "outputs": [
        {
          "output_type": "execute_result",
          "data": {
            "text/html": [
              "<div>\n",
              "<style scoped>\n",
              "    .dataframe tbody tr th:only-of-type {\n",
              "        vertical-align: middle;\n",
              "    }\n",
              "\n",
              "    .dataframe tbody tr th {\n",
              "        vertical-align: top;\n",
              "    }\n",
              "\n",
              "    .dataframe thead th {\n",
              "        text-align: right;\n",
              "    }\n",
              "</style>\n",
              "<table border=\"1\" class=\"dataframe\">\n",
              "  <thead>\n",
              "    <tr style=\"text-align: right;\">\n",
              "      <th></th>\n",
              "      <th>V1</th>\n",
              "      <th>V2</th>\n",
              "      <th>V3</th>\n",
              "      <th>V4</th>\n",
              "      <th>V5</th>\n",
              "      <th>V6</th>\n",
              "      <th>V7</th>\n",
              "      <th>V8</th>\n",
              "      <th>V9</th>\n",
              "    </tr>\n",
              "  </thead>\n",
              "  <tbody>\n",
              "    <tr>\n",
              "      <th>259</th>\n",
              "      <td>1</td>\n",
              "      <td>-1</td>\n",
              "      <td>0</td>\n",
              "      <td>0</td>\n",
              "      <td>1</td>\n",
              "      <td>1</td>\n",
              "      <td>0</td>\n",
              "      <td>-1</td>\n",
              "      <td>1</td>\n",
              "    </tr>\n",
              "  </tbody>\n",
              "</table>\n",
              "</div>"
            ],
            "text/plain": [
              "     V1  V2  V3  V4  V5  V6  V7  V8  V9\n",
              "259   1  -1   0   0   1   1   0  -1   1"
            ]
          },
          "metadata": {
            "tags": []
          },
          "execution_count": 118
        }
      ]
    },
    {
      "cell_type": "code",
      "metadata": {
        "id": "ILc6bNAf94_F",
        "colab_type": "code",
        "colab": {
          "base_uri": "https://localhost:8080/",
          "height": 80
        },
        "outputId": "b2870be3-e0cd-4157-fe76-e596eb00142e"
      },
      "source": [
        "dta = pd.DataFrame([[1 \t,-1 ,\t0 ,\t0 ,\t1, \t1 ,\t0 ,\t-1 ,\t1]])\n",
        "dta.head()"
      ],
      "execution_count": 121,
      "outputs": [
        {
          "output_type": "execute_result",
          "data": {
            "text/html": [
              "<div>\n",
              "<style scoped>\n",
              "    .dataframe tbody tr th:only-of-type {\n",
              "        vertical-align: middle;\n",
              "    }\n",
              "\n",
              "    .dataframe tbody tr th {\n",
              "        vertical-align: top;\n",
              "    }\n",
              "\n",
              "    .dataframe thead th {\n",
              "        text-align: right;\n",
              "    }\n",
              "</style>\n",
              "<table border=\"1\" class=\"dataframe\">\n",
              "  <thead>\n",
              "    <tr style=\"text-align: right;\">\n",
              "      <th></th>\n",
              "      <th>0</th>\n",
              "      <th>1</th>\n",
              "      <th>2</th>\n",
              "      <th>3</th>\n",
              "      <th>4</th>\n",
              "      <th>5</th>\n",
              "      <th>6</th>\n",
              "      <th>7</th>\n",
              "      <th>8</th>\n",
              "    </tr>\n",
              "  </thead>\n",
              "  <tbody>\n",
              "    <tr>\n",
              "      <th>0</th>\n",
              "      <td>1</td>\n",
              "      <td>-1</td>\n",
              "      <td>0</td>\n",
              "      <td>0</td>\n",
              "      <td>1</td>\n",
              "      <td>1</td>\n",
              "      <td>0</td>\n",
              "      <td>-1</td>\n",
              "      <td>1</td>\n",
              "    </tr>\n",
              "  </tbody>\n",
              "</table>\n",
              "</div>"
            ],
            "text/plain": [
              "   0  1  2  3  4  5  6  7  8\n",
              "0  1 -1  0  0  1  1  0 -1  1"
            ]
          },
          "metadata": {
            "tags": []
          },
          "execution_count": 121
        }
      ]
    },
    {
      "cell_type": "code",
      "metadata": {
        "id": "YMdQAlAM7yJ2",
        "colab_type": "code",
        "colab": {
          "base_uri": "https://localhost:8080/",
          "height": 35
        },
        "outputId": "f12f3a5d-c04f-4958-c497-bc91bfd72fbd"
      },
      "source": [
        "print(model.predict(dta))"
      ],
      "execution_count": 122,
      "outputs": [
        {
          "output_type": "stream",
          "text": [
            "[[0.990519]]\n"
          ],
          "name": "stdout"
        }
      ]
    }
  ]
}