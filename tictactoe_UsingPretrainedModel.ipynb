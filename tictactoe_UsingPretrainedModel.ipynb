{
  "nbformat": 4,
  "nbformat_minor": 0,
  "metadata": {
    "colab": {
      "name": "tictactoe-UsingPretrainedModel.ipynb",
      "provenance": [],
      "authorship_tag": "ABX9TyP+m0XuMawZBKTs30AduhBj",
      "include_colab_link": true
    },
    "kernelspec": {
      "name": "python3",
      "display_name": "Python 3"
    }
  },
  "cells": [
    {
      "cell_type": "markdown",
      "metadata": {
        "id": "view-in-github",
        "colab_type": "text"
      },
      "source": [
        "<a href=\"https://colab.research.google.com/github/technicalclub-rcoem/Gamepad-101/blob/resultprediction/tictactoe_UsingPretrainedModel.ipynb\" target=\"_parent\"><img src=\"https://colab.research.google.com/assets/colab-badge.svg\" alt=\"Open In Colab\"/></a>"
      ]
    },
    {
      "cell_type": "markdown",
      "metadata": {
        "id": "1flsDaRqFM2o",
        "colab_type": "text"
      },
      "source": [
        "#Fetch model"
      ]
    },
    {
      "cell_type": "code",
      "metadata": {
        "id": "ggWm4SHfEVfj",
        "colab_type": "code",
        "colab": {
          "base_uri": "https://localhost:8080/",
          "height": 351
        },
        "outputId": "712af100-c83b-481e-b40b-b7533a3ebec1"
      },
      "source": [
        "!wget trained_model.h5 https://raw.githubusercontent.com/technicalclub-rcoem/Gamepad-101/tictactoe/tictactoeprediction.h5"
      ],
      "execution_count": 2,
      "outputs": [
        {
          "output_type": "stream",
          "text": [
            "--2020-05-06 13:02:10--  http://trained_model.h5/\n",
            "Resolving trained_model.h5 (trained_model.h5)... failed: Name or service not known.\n",
            "wget: unable to resolve host address ‘trained_model.h5’\n",
            "--2020-05-06 13:02:10--  https://raw.githubusercontent.com/technicalclub-rcoem/Gamepad-101/tictactoe/tictactoeprediction.h5\n",
            "Resolving raw.githubusercontent.com (raw.githubusercontent.com)... 151.101.0.133, 151.101.64.133, 151.101.128.133, ...\n",
            "Connecting to raw.githubusercontent.com (raw.githubusercontent.com)|151.101.0.133|:443... connected.\n",
            "HTTP request sent, awaiting response... 200 OK\n",
            "Length: 78560 (77K) [application/octet-stream]\n",
            "Saving to: ‘tictactoeprediction.h5’\n",
            "\n",
            "\rtictactoeprediction   0%[                    ]       0  --.-KB/s               \rtictactoeprediction 100%[===================>]  76.72K  --.-KB/s    in 0.03s   \n",
            "\n",
            "2020-05-06 13:02:11 (2.59 MB/s) - ‘tictactoeprediction.h5’ saved [78560/78560]\n",
            "\n",
            "FINISHED --2020-05-06 13:02:11--\n",
            "Total wall clock time: 0.9s\n",
            "Downloaded: 1 files, 77K in 0.03s (2.59 MB/s)\n"
          ],
          "name": "stdout"
        }
      ]
    },
    {
      "cell_type": "code",
      "metadata": {
        "id": "pAnbt51AEPsG",
        "colab_type": "code",
        "colab": {}
      },
      "source": [
        "from tensorflow import keras\n",
        "from keras.models import load_model"
      ],
      "execution_count": 0,
      "outputs": []
    },
    {
      "cell_type": "code",
      "metadata": {
        "id": "K5n3RyxLDVkl",
        "colab_type": "code",
        "colab": {}
      },
      "source": [
        "model = load_model('tictactoeprediction.h5')"
      ],
      "execution_count": 0,
      "outputs": []
    },
    {
      "cell_type": "code",
      "metadata": {
        "id": "-MoeSWGuGoar",
        "colab_type": "code",
        "colab": {
          "base_uri": "https://localhost:8080/",
          "height": 276
        },
        "outputId": "ebab00a0-0a1d-4669-d746-8e0452a5ae04"
      },
      "source": [
        "model.summary()"
      ],
      "execution_count": 7,
      "outputs": [
        {
          "output_type": "stream",
          "text": [
            "Model: \"sequential_2\"\n",
            "_________________________________________________________________\n",
            "Layer (type)                 Output Shape              Param #   \n",
            "=================================================================\n",
            "dense_4 (Dense)              (None, 60)                600       \n",
            "_________________________________________________________________\n",
            "dense_5 (Dense)              (None, 60)                3660      \n",
            "_________________________________________________________________\n",
            "dense_6 (Dense)              (None, 1)                 61        \n",
            "=================================================================\n",
            "Total params: 4,321\n",
            "Trainable params: 4,321\n",
            "Non-trainable params: 0\n",
            "_________________________________________________________________\n"
          ],
          "name": "stdout"
        }
      ]
    }
  ]
}